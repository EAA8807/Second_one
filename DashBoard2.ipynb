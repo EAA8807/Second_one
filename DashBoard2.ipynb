{
 "cells": [
  {
   "cell_type": "code",
   "execution_count": null,
   "id": "dc46b0b2",
   "metadata": {},
   "outputs": [],
   "source": [
    "import ipywidgets as widgets\n",
    "from IPython.display import display\n",
    "import plotly.express as px\n",
    "import pandas as pd\n",
    "import numpy as np\n",
    "\n",
    "import plotly.io as pio\n",
    "pio.renderers.default = 'notebook'  # или 'browser', 'colab', 'jupyterlab '"
   ]
  },
  {
   "cell_type": "code",
   "execution_count": null,
   "id": "b86c9ce6",
   "metadata": {},
   "outputs": [
    {
     "data": {
      "application/vnd.jupyter.widget-view+json": {
       "model_id": "ce0a5f9278c64f2897a5f39f88be2b26",
       "version_major": 2,
       "version_minor": 0
      },
      "text/plain": [
       "HTML(value='<h1>📊 Чудные погоды</h1>')"
      ]
     },
     "metadata": {},
     "output_type": "display_data"
    },
    {
     "data": {
      "application/vnd.jupyter.widget-view+json": {
       "model_id": "0bcace6cbdaa4bb89d66a0094a83d08c",
       "version_major": 2,
       "version_minor": 0
      },
      "text/plain": [
       "Dropdown(description='Параметр:', options=('Температура', 'Влажность', 'Давление'), value='Температура')"
      ]
     },
     "metadata": {},
     "output_type": "display_data"
    },
    {
     "data": {
      "application/vnd.jupyter.widget-view+json": {
       "model_id": "400b8d2827484d4f8465bc3fa340b2b5",
       "version_major": 2,
       "version_minor": 0
      },
      "text/plain": [
       "IntSlider(value=7, description='Дней:', max=30, min=1)"
      ]
     },
     "metadata": {},
     "output_type": "display_data"
    },
    {
     "data": {
      "application/vnd.jupyter.widget-view+json": {
       "model_id": "34159a4a76434e7b93720b8ac4c2317a",
       "version_major": 2,
       "version_minor": 0
      },
      "text/plain": [
       "Button(description='Построить график', style=ButtonStyle())"
      ]
     },
     "metadata": {},
     "output_type": "display_data"
    },
    {
     "data": {
      "application/vnd.jupyter.widget-view+json": {
       "model_id": "471d045ba6e748fe9c857ea36db2c22d",
       "version_major": 2,
       "version_minor": 0
      },
      "text/plain": [
       "Output()"
      ]
     },
     "metadata": {},
     "output_type": "display_data"
    }
   ],
   "source": [
    "# Заголовок дашборда\n",
    "header = widgets.HTML(\"<h1>📊 Чудные погоды</h1>\")\n",
    "display(header)\n",
    "\n",
    "# Виджеты\n",
    "dropdown = widgets.Dropdown(\n",
    "    options=['Температура', 'Влажность', 'Давление'],\n",
    "    description='Параметр:'\n",
    ")\n",
    "slider = widgets.IntSlider(\n",
    "    min=1,\n",
    "    max=30,\n",
    "    value=7,\n",
    "    description='Дней:'\n",
    ")\n",
    "button = widgets.Button(description=\"Построить график\")\n",
    "output = widgets.Output()\n",
    "\n",
    "# Генерация данных\n",
    "def generate_data(days, param):\n",
    "    dates = pd.date_range(end=pd.Timestamp.today(), periods=days)\n",
    "    values = np.random.randn(days).cumsum() + 20\n",
    "    return pd.DataFrame({'Дата': dates, param: values})\n",
    "\n",
    "# Обработчик кнопки\n",
    "def on_click(b):\n",
    "    with output:\n",
    "        output.clear_output()\n",
    "        df = generate_data(slider.value, dropdown.value)\n",
    "        fig = px.line(df, x='Дата', y=dropdown.value, title=f\"{dropdown.value} за {slider.value} дней\")\n",
    "        fig.show()\n",
    "\n",
    "button.on_click(on_click)\n",
    "display(dropdown, slider, button, output)"
   ]
  }
 ],
 "metadata": {
  "kernelspec": {
   "display_name": "Python 3",
   "language": "python",
   "name": "python3"
  },
  "language_info": {
   "codemirror_mode": {
    "name": "ipython",
    "version": 3
   },
   "file_extension": ".py",
   "mimetype": "text/x-python",
   "name": "python",
   "nbconvert_exporter": "python",
   "pygments_lexer": "ipython3",
   "version": "3.11.9"
  }
 },
 "nbformat": 4,
 "nbformat_minor": 5
}
